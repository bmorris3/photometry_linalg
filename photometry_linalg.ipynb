{
 "cells": [
  {
   "cell_type": "markdown",
   "metadata": {},
   "source": [
    "# Photometric detrending"
   ]
  },
  {
   "cell_type": "code",
   "execution_count": null,
   "metadata": {},
   "outputs": [],
   "source": [
    "%matplotlib inline\n",
    "import numpy as np\n",
    "import matplotlib.pyplot as plt"
   ]
  },
  {
   "cell_type": "code",
   "execution_count": null,
   "metadata": {},
   "outputs": [],
   "source": [
    "def gaussian(theta, x): \n",
    "    \"\"\"\n",
    "    Gaussian signal\n",
    "    \"\"\"\n",
    "    amp, x0, sigma = theta\n",
    "    return amp * np.exp(-0.5 * (x0 - x)**2 / sigma**2)"
   ]
  },
  {
   "cell_type": "code",
   "execution_count": null,
   "metadata": {},
   "outputs": [],
   "source": [
    "np.random.seed(42)\n",
    "\n",
    "# Set the number of data points\n",
    "n = 1000\n",
    "\n",
    "times = np.arange(n)\n",
    "\n",
    "# Create position vectors for the centroid of the target\n",
    "x = 10 * np.random.randn(n) + 500\n",
    "y = 12 * np.random.randn(n) + 500\n",
    "\n",
    "# Create sinusoidal varying background with time\n",
    "background_period = 150\n",
    "background = (100 * np.random.randn(n) + 1000 + \n",
    "              300 * np.sin(2 * np.pi / background_period * times) + \n",
    "              0.2 * times)\n",
    "\n",
    "# Create astrophysical signal, which has a Gaussian shape\n",
    "signal = gaussian([-500, 400, 50], times) + 50 * np.random.randn(n)\n",
    "\n",
    "err = 50 * np.ones(n)\n",
    "\n",
    "# Plot the vectors of the centroid positions, the time-varying \n",
    "# background, and the signal \n",
    "fig, ax = plt.subplots(1, 3, figsize=(10, 3))\n",
    "ax[0].plot(x, y, 'k.')\n",
    "ax[0].set(xlabel='X centroid', ylabel='Y centroid')\n",
    "ax[1].plot(background, 'k.')\n",
    "ax[1].set(xlabel='Time', ylabel='Background flux')\n",
    "ax[2].plot(times, signal, 'k.')\n",
    "ax[2].set(xlabel='Time', ylabel='Astrophysical Signal')\n",
    "fig.tight_layout()"
   ]
  },
  {
   "cell_type": "code",
   "execution_count": null,
   "metadata": {},
   "outputs": [],
   "source": [
    "np.random.seed(1984)\n",
    "\n",
    "# Create a \"hidden\" relationship between each of the \n",
    "# input vectors (position, background, plus signal) \n",
    "# and the output vector (observed flux)\n",
    "\n",
    "X_true = np.vstack([\n",
    "    times - times.mean(),\n",
    "    x - x.mean(), \n",
    "    y - y.mean(), \n",
    "    (x - x.mean()) * (y - y.mean()), \n",
    "    background, \n",
    "    signal\n",
    "]).T\n",
    "\n",
    "# Assign random weights to each of the vectors\n",
    "betas_soln = np.random.random(size=X_true.shape[1])\n",
    "\n",
    "flux_observed = X_true @ betas_soln\n",
    "\n",
    "plt.plot(times, flux_observed, 'k.')\n",
    "plt.gca().set(xlabel='Times', ylabel='Observed Flux')"
   ]
  },
  {
   "cell_type": "code",
   "execution_count": null,
   "metadata": {},
   "outputs": [],
   "source": [
    "def linreg(X, flux, err):\n",
    "    \"\"\"\n",
    "    Solve linear regression such that `X betas = flux`\n",
    "    \"\"\"\n",
    "    inv_N = np.linalg.inv(np.diag(err)**2)\n",
    "    betas = np.linalg.inv(X.T @ inv_N @ X) @ X.T @ inv_N @ flux\n",
    "    cov = np.linalg.inv(X.T @ inv_N @ X)\n",
    "    return betas, cov"
   ]
  },
  {
   "cell_type": "code",
   "execution_count": null,
   "metadata": {},
   "outputs": [],
   "source": [
    "X_obs = np.vstack([\n",
    "    # Trend in time\n",
    "    times - times.mean(),\n",
    "    \n",
    "    # Positional terms\n",
    "    x - x.mean(), \n",
    "    y - y.mean(),\n",
    "    (x - x.mean()) * (y - y.mean()),\n",
    "    \n",
    "    # Background terms\n",
    "    np.sin(2 * np.pi / background_period * times), \n",
    "    np.cos(2 * np.pi / background_period * times),\n",
    "    np.ones(n),\n",
    "    \n",
    "    # Signal model\n",
    "    gaussian([-500, 400, 50], times)\n",
    "]).T\n",
    "\n",
    "betas, cov = linreg(X_obs, flux_observed, err)\n",
    "\n",
    "best_flux_model = X_obs @ betas\n",
    "\n",
    "fig, ax = plt.subplots(2, 1, figsize=(6, 8), sharex=True)\n",
    "ax[0].plot(times, flux_observed, 'k.', label='Observed')\n",
    "ax[0].plot(times, best_flux_model, 'r', label='Model')\n",
    "ax[0].legend(loc='lower right')\n",
    "ax[0].set(ylabel='Flux')\n",
    "\n",
    "ax[1].plot(times, flux_observed - best_flux_model, 'k.')\n",
    "ax[1].set(xlabel='Time', ylabel='Residuals')\n",
    "plt.show()"
   ]
  },
  {
   "cell_type": "code",
   "execution_count": null,
   "metadata": {},
   "outputs": [],
   "source": [
    "plt.plot(times, signal, 'k.', label='Input signal')\n",
    "plt.plot(times, flux_observed - (X_obs[:, :-1] @ betas[:-1]), 'r.', label='Recovered signal')\n",
    "plt.legend(loc='lower right')\n",
    "plt.xlabel('Time')\n",
    "plt.ylabel('Flux')\n",
    "plt.show()"
   ]
  },
  {
   "cell_type": "code",
   "execution_count": null,
   "metadata": {},
   "outputs": [],
   "source": []
  }
 ],
 "metadata": {
  "kernelspec": {
   "display_name": "Python 3",
   "language": "python",
   "name": "python3"
  },
  "language_info": {
   "codemirror_mode": {
    "name": "ipython",
    "version": 3
   },
   "file_extension": ".py",
   "mimetype": "text/x-python",
   "name": "python",
   "nbconvert_exporter": "python",
   "pygments_lexer": "ipython3",
   "version": "3.7.6"
  }
 },
 "nbformat": 4,
 "nbformat_minor": 4
}
