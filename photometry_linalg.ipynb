{
 "cells": [
  {
   "cell_type": "markdown",
   "metadata": {},
   "source": [
    "# Photometric detrending\n",
    "\n",
    "EEG Meeting March 31, 2020\n",
    "\n",
    "Brett Morris\n",
    "\n",
    "## The signal(s) in the noise\n",
    "\n",
    "Photometry from spacecraft are rarely \"clean\". The photometry often comes to the astronomer pre-reduced by the mission team with various trends embedded in the photometry which need to be removed before one can successfully measure the astrophysical signal of interest.\n",
    "\n",
    "Here's a non-exhaustive list of the signals and noise that we expect in the CHEOPS photometry\n",
    "1. Trends with time: spacecraft orbital phase, Sun angle, roll angle, temperature trends\n",
    "2. Trends with stellar centroid position on detector: `x`, `y`, cross-terms (`x*y`)\n",
    "3. Astrophysical signals of interest: transit, phase curve, secondary eclipse\n",
    "\n",
    "## What gets delivered from CHEOPS\n",
    "\n",
    "You get handed a bunch of FITS files that contain *record arrays*, which are matrices with labeled columns. The columns are things like: \n",
    "* times (BJD, UTC, etc.)\n",
    "* roll angle\n",
    "* stellar centroid position on detector\n",
    "* contamination parameter\n",
    "* **flux** and uncertainty\n",
    "\n",
    "## What you already know\n",
    "\n",
    "For a known transiting system, which make up the bulk of the CHEOPS schedule, you already know the planet-to-star radius ratio $R_p/R_\\star$ and the mid-transit time $t_0$, so you can easily create a transit model which describes the expected astrophysical signal.\n"
   ]
  },
  {
   "cell_type": "code",
   "execution_count": null,
   "metadata": {},
   "outputs": [],
   "source": [
    "%matplotlib inline\n",
    "import numpy as np\n",
    "import matplotlib.pyplot as plt"
   ]
  },
  {
   "cell_type": "code",
   "execution_count": null,
   "metadata": {},
   "outputs": [],
   "source": [
    "def gaussian(theta, x): \n",
    "    \"\"\"\n",
    "    Gaussian signal\n",
    "    \"\"\"\n",
    "    amp, x0, sigma = theta\n",
    "    return amp * np.exp(-0.5 * (x0 - x)**2 / sigma**2)"
   ]
  },
  {
   "cell_type": "markdown",
   "metadata": {},
   "source": [
    "## Create a set of simulated signal vectors"
   ]
  },
  {
   "cell_type": "code",
   "execution_count": null,
   "metadata": {},
   "outputs": [],
   "source": [
    "np.random.seed(42)\n",
    "\n",
    "# Set the number of data points\n",
    "n = 1000\n",
    "\n",
    "times = np.arange(n)\n",
    "\n",
    "# Create position vectors for the centroid of the target\n",
    "x = 10 * np.random.randn(n) + 500\n",
    "y = 12 * np.random.randn(n) + 500\n",
    "\n",
    "# Create sinusoidal varying background with time\n",
    "background_period = 150\n",
    "background = (100 * np.random.randn(n) + 1000 + \n",
    "              300 * np.sin(2 * np.pi / background_period * times) + \n",
    "              0.2 * times)\n",
    "\n",
    "# Create astrophysical signal, which has a Gaussian shape\n",
    "signal = gaussian([-500, 400, 50], times) + 50 * np.random.randn(n)\n",
    "\n",
    "err = 50 * np.ones(n)\n",
    "\n",
    "# Plot the vectors of the centroid positions, the time-varying \n",
    "# background, and the signal \n",
    "fig, ax = plt.subplots(1, 3, figsize=(10, 3))\n",
    "ax[0].plot(x, y, 'k.')\n",
    "ax[0].set(xlabel='X centroid', ylabel='Y centroid')\n",
    "ax[1].plot(background, 'k.')\n",
    "ax[1].set(xlabel='Time', ylabel='Background flux')\n",
    "ax[2].plot(times, signal, 'k.')\n",
    "ax[2].set(xlabel='Time', ylabel='Astrophysical Signal')\n",
    "fig.tight_layout()"
   ]
  },
  {
   "cell_type": "markdown",
   "metadata": {},
   "source": [
    "**Figure**: Several components of the measurements which we will use to detrend the photometry. The first plot shows the position of the stellar centroid on the detector (pixel coordinates). The second plot shows the time-varying background which is sinusoidal with a linear baseline trend. The third plot shows the astrophysical signal which we want to measure, which might be a transit-like signal with observational noise.\n",
    "\n",
    "## Linear combination\n",
    "\n",
    "The fundamental principle of this detrending technique is that the observed flux vector is a linear combination of vectors of other observed quantities. For example, \n",
    "$$ \\mathrm{flux} = c_0 x + c_1 y + c_2 x y + c_3 \\mathrm{(background)} + ... + c_n \\mathrm{(signal)}$$. \n",
    "\n",
    "In the next cell, we'll explicitly define such a relationship by creating a matrix of the measurement vectors using the `np.vstack` command to stack the column vectors together into a matrix, called `X_true`. Then we'll randomly choose prefactor coefficients $\\{c_i\\}$ for each of the observed vectors which determine the weights of the vectors in the final `flux_observed` vector."
   ]
  },
  {
   "cell_type": "code",
   "execution_count": null,
   "metadata": {},
   "outputs": [],
   "source": [
    "np.random.seed(1984)\n",
    "\n",
    "# Create a \"hidden\" relationship between each of the \n",
    "# input vectors (position, background, plus signal) \n",
    "# and the output vector (observed flux)\n",
    "\n",
    "X_true = np.vstack([\n",
    "    times - times.mean(),\n",
    "    x - x.mean(), \n",
    "    y - y.mean(), \n",
    "    (x - x.mean()) * (y - y.mean()), \n",
    "    background, \n",
    "    signal\n",
    "]).T\n",
    "\n",
    "# Assign random weights to each of the vectors\n",
    "betas_soln = np.random.random(size=X_true.shape[1])\n",
    "\n",
    "flux_observed = X_true @ betas_soln\n",
    "\n",
    "plt.plot(times, flux_observed, 'k.')\n",
    "plt.gca().set(xlabel='Times', ylabel='Observed Flux')"
   ]
  },
  {
   "cell_type": "markdown",
   "metadata": {},
   "source": [
    "**Figure**: The observed flux from the spacecraft will be a superposition of the measured vectors (and probably some that aren't measured, as well). The astrophysical signal at `t=400` is still visible, but it is clearly contaminated by the sinusoidal + linear trend background.\n",
    "\n",
    "## Recovering the original signal with linear algebra\n",
    "\n",
    "We can use [ordinary least squares](https://en.wikipedia.org/wiki/Ordinary_least_squares) to compute the weights of each of the measurement vectors which contribute to the observed signal.\n",
    "\n",
    "In math-speak, the least squares estimator vector $\\hat {\\boldsymbol {\\beta }}$ is given by\n",
    "\n",
    "$${\\displaystyle {\\hat {\\boldsymbol {\\beta }}}=(\\mathbf {X} ^{\\rm {T}} N^{-1} \\mathbf {X} )^{-1}\\mathbf {X} ^{\\rm {T}} N^{-1} \\mathbf {y}, }$$\n",
    "\n",
    "where $y$ is the observed flux vector, $X$ is the matrix of measurements to linearly combine into the observed flux vector, and $N$ is the diagonal matrix of flux uncertainties.\n",
    "\n",
    "First, we'll define the linear regression algorithm, which solves for the weights directly using matrix inversion. Note, in Python >3.5 the `@` operator is the matrix multiplier."
   ]
  },
  {
   "cell_type": "code",
   "execution_count": null,
   "metadata": {},
   "outputs": [],
   "source": [
    "def linreg(X, flux, err):\n",
    "    \"\"\"\n",
    "    Solve linear regression such that `X betas = flux`\n",
    "    \"\"\"\n",
    "    # Make a matrix with `err` along the diagonal, square it, and take its inverse\n",
    "    inv_N = np.linalg.inv(np.diag(err)**2)\n",
    "    # Solve for betas \n",
    "    betas = np.linalg.inv(X.T @ inv_N @ X) @ X.T @ inv_N @ flux\n",
    "    cov = np.linalg.inv(X.T @ inv_N @ X)\n",
    "    return betas, cov"
   ]
  },
  {
   "cell_type": "markdown",
   "metadata": {},
   "source": [
    "Next, we'll assemble our `X_obs` matrix of observation vectors, including the time, position vectors, a sinusoidal background trend, and the astrophysical signal model vector: "
   ]
  },
  {
   "cell_type": "code",
   "execution_count": null,
   "metadata": {},
   "outputs": [],
   "source": [
    "X_obs = np.vstack([\n",
    "    # Trend in time\n",
    "    times - times.mean(),\n",
    "    \n",
    "    # Positional terms\n",
    "    x - x.mean(), \n",
    "    y - y.mean(),\n",
    "    (x - x.mean()) * (y - y.mean()),\n",
    "    \n",
    "    # Background terms\n",
    "    np.sin(2 * np.pi / background_period * times), \n",
    "    np.cos(2 * np.pi / background_period * times),\n",
    "    np.ones(n),\n",
    "    \n",
    "    # Signal model\n",
    "    gaussian([-500, 400, 50], times)\n",
    "]).T"
   ]
  },
  {
   "cell_type": "markdown",
   "metadata": {},
   "source": [
    "Now we'll run the linear regression routine on the matrix conditioned on the observed fluxes and their uncertainties. The best-fit model is the superposition of the vectors in `X_obs` multiplied by the weights that we found using the linear regression `betas`: "
   ]
  },
  {
   "cell_type": "code",
   "execution_count": null,
   "metadata": {},
   "outputs": [],
   "source": [
    "betas, cov = linreg(X_obs, flux_observed, err)\n",
    "\n",
    "best_flux_model = X_obs @ betas"
   ]
  },
  {
   "cell_type": "markdown",
   "metadata": {},
   "source": [
    "Let's plot the resulting \"best flux model\" vector (red) and the observed fluxes (black), and see how the residuals look:"
   ]
  },
  {
   "cell_type": "code",
   "execution_count": null,
   "metadata": {},
   "outputs": [],
   "source": [
    "fig, ax = plt.subplots(2, 1, figsize=(6, 8), sharex=True)\n",
    "ax[0].plot(times, flux_observed, 'k.', label='Observed')\n",
    "ax[0].plot(times, best_flux_model, 'r', label='Model')\n",
    "ax[0].legend(loc='lower right')\n",
    "ax[0].set(ylabel='Flux')\n",
    "\n",
    "ax[1].plot(times, flux_observed - best_flux_model, 'k.')\n",
    "ax[1].set(xlabel='Time', ylabel='Residuals')\n",
    "plt.show()"
   ]
  },
  {
   "cell_type": "markdown",
   "metadata": {},
   "source": [
    "**Figure**: note that the residuals look like white noise -- it appears that we've included enough of the relevant vectors in the linear regression to remove most of the correlated noise.\n",
    "\n",
    "Let's take a look at the light curve after it has been detrended against all of the vectors *except* the astrophysical signal vector: "
   ]
  },
  {
   "cell_type": "code",
   "execution_count": null,
   "metadata": {},
   "outputs": [],
   "source": [
    "plt.plot(times, signal, 'k.', label='Input signal')\n",
    "plt.plot(times, flux_observed - (X_obs[:, :-1] @ betas[:-1]), 'r.', label='Recovered signal')\n",
    "plt.legend(loc='lower right')\n",
    "plt.xlabel('Time')\n",
    "plt.ylabel('Flux')\n",
    "plt.show()"
   ]
  },
  {
   "cell_type": "markdown",
   "metadata": {},
   "source": [
    "**Figure**: note that the amplitude of the recovered signal is not exactly the same as the amplitude of the input signal – there is uncertainty associated with the matrix inversion step which propagates into uncertainty on the amplitude of the output signal."
   ]
  },
  {
   "cell_type": "code",
   "execution_count": null,
   "metadata": {},
   "outputs": [],
   "source": []
  }
 ],
 "metadata": {
  "kernelspec": {
   "display_name": "Python 3",
   "language": "python",
   "name": "python3"
  },
  "language_info": {
   "codemirror_mode": {
    "name": "ipython",
    "version": 3
   },
   "file_extension": ".py",
   "mimetype": "text/x-python",
   "name": "python",
   "nbconvert_exporter": "python",
   "pygments_lexer": "ipython3",
   "version": "3.7.6"
  }
 },
 "nbformat": 4,
 "nbformat_minor": 4
}
